{
 "metadata": {
  "language_info": {
   "codemirror_mode": {
    "name": "ipython",
    "version": 3
   },
   "file_extension": ".py",
   "mimetype": "text/x-python",
   "name": "python",
   "nbconvert_exporter": "python",
   "pygments_lexer": "ipython3",
   "version": "3.8.3-final"
  },
  "orig_nbformat": 2,
  "kernelspec": {
   "name": "python3",
   "display_name": "Python 3",
   "language": "python"
  }
 },
 "nbformat": 4,
 "nbformat_minor": 2,
 "cells": [
  {
   "cell_type": "code",
   "execution_count": 1,
   "metadata": {},
   "outputs": [],
   "source": [
    "import numpy as np"
   ]
  },
  {
   "cell_type": "code",
   "execution_count": 2,
   "metadata": {},
   "outputs": [],
   "source": [
    "#создадим матрицу, которая нам понадобится в работе.\n",
    "m = np.matrix('1 2 3 4; 5 6 7 8 ; 9 1 5 7')"
   ]
  },
  {
   "cell_type": "code",
   "execution_count": 3,
   "metadata": {},
   "outputs": [
    {
     "output_type": "stream",
     "name": "stdout",
     "text": [
      "[[1 2 3 4]\n [5 6 7 8]\n [9 1 5 7]]\n"
     ]
    }
   ],
   "source": [
    "print(m)"
   ]
  },
  {
   "cell_type": "code",
   "execution_count": 4,
   "metadata": {},
   "outputs": [
    {
     "output_type": "execute_result",
     "data": {
      "text/plain": [
       "numpy.matrix"
      ]
     },
     "metadata": {},
     "execution_count": 4
    }
   ],
   "source": [
    "type(m)\n"
   ]
  },
  {
   "cell_type": "code",
   "execution_count": 5,
   "metadata": {},
   "outputs": [],
   "source": [
    "#Matix можно превратить в ndarray вот так\n",
    "m = np.array(m)"
   ]
  },
  {
   "cell_type": "code",
   "execution_count": 6,
   "metadata": {},
   "outputs": [
    {
     "output_type": "execute_result",
     "data": {
      "text/plain": [
       "numpy.ndarray"
      ]
     },
     "metadata": {},
     "execution_count": 6
    }
   ],
   "source": [
    "type(m)"
   ]
  },
  {
   "cell_type": "code",
   "execution_count": 7,
   "metadata": {},
   "outputs": [
    {
     "output_type": "stream",
     "name": "stdout",
     "text": [
      "[[1 2 3 4]\n [5 6 7 8]\n [9 1 5 7]]\n"
     ]
    }
   ],
   "source": [
    "print(m)"
   ]
  },
  {
   "cell_type": "code",
   "execution_count": 8,
   "metadata": {},
   "outputs": [
    {
     "output_type": "execute_result",
     "data": {
      "text/plain": [
       "(3, 4)"
      ]
     },
     "metadata": {},
     "execution_count": 8
    }
   ],
   "source": [
    "#Для определения размерности массива Numpy используйте атрибут shape\n",
    "m.shape"
   ]
  },
  {
   "source": [
    "m.max()\n",
    "np.max(m)"
   ],
   "cell_type": "code",
   "metadata": {},
   "execution_count": 9,
   "outputs": [
    {
     "output_type": "execute_result",
     "data": {
      "text/plain": [
       "9"
      ]
     },
     "metadata": {},
     "execution_count": 9
    }
   ]
  },
  {
   "cell_type": "code",
   "execution_count": 10,
   "metadata": {},
   "outputs": [
    {
     "output_type": "execute_result",
     "data": {
      "text/plain": [
       "array([4, 8, 9])"
      ]
     },
     "metadata": {},
     "execution_count": 10
    }
   ],
   "source": [
    "m.max(axis=1)"
   ]
  },
  {
   "cell_type": "code",
   "execution_count": 11,
   "metadata": {},
   "outputs": [
    {
     "output_type": "execute_result",
     "data": {
      "text/plain": [
       "array([9, 6, 7, 8])"
      ]
     },
     "metadata": {},
     "execution_count": 11
    }
   ],
   "source": [
    "m.max(axis=0)"
   ]
  },
  {
   "cell_type": "code",
   "execution_count": 12,
   "metadata": {},
   "outputs": [
    {
     "output_type": "execute_result",
     "data": {
      "text/plain": [
       "array([[1, 2, 3, 4],\n",
       "       [5, 6, 7, 8],\n",
       "       [9, 1, 5, 7]])"
      ]
     },
     "metadata": {},
     "execution_count": 12
    }
   ],
   "source": [
    "m"
   ]
  },
  {
   "cell_type": "code",
   "execution_count": 13,
   "metadata": {},
   "outputs": [
    {
     "output_type": "execute_result",
     "data": {
      "text/plain": [
       "5"
      ]
     },
     "metadata": {},
     "execution_count": 13
    }
   ],
   "source": [
    "m[2,2]"
   ]
  },
  {
   "cell_type": "code",
   "execution_count": 13,
   "metadata": {},
   "outputs": [
    {
     "output_type": "execute_result",
     "data": {
      "text/plain": [
       "array([[1, 2, 3, 4],\n",
       "       [5, 6, 7, 8],\n",
       "       [9, 1, 5, 7]])"
      ]
     },
     "metadata": {},
     "execution_count": 13
    }
   ],
   "source": []
  },
  {
   "source": [
    "np.random.randint(0, 5, 3)"
   ],
   "cell_type": "code",
   "metadata": {},
   "execution_count": 14,
   "outputs": [
    {
     "output_type": "execute_result",
     "data": {
      "text/plain": [
       "array([1, 4, 0])"
      ]
     },
     "metadata": {},
     "execution_count": 14
    }
   ]
  },
  {
   "source": [
    "np.empty(5) # одномерный массив из пяти элементов, память для которого выделена, но не инициализирована\n",
    "\n",
    "#np.zeros((10, 7)) # массив размером 10x7, заполненный нулями \n",
    "#np.ones((3,3,3)) # массив размером 3х3х3, заполненный единицами \n",
    "np.eye(3) # единичная матрица (элементы главной диагонали равны 1, остальные — 0) размера 3х3\n",
    "#np.full((3, 5), 3.14)  # массив 3x5 заполненный числом 3.14\n",
    "#np.arange(0, 21, 7)  # одномерный массив, заполненный числами в диапазоне от 0 до 20 с шагом 7\n",
    "#np.linspace(0, 1, 5)  # массив из пяти чисел, равномерно распределённых в интервале между 0 и 1 включительно\n",
    "#np.random.randint(0, 10, (3, 3))  # массив размера 3х3, заполненный случайными числами из диапазона от 0 до 9 (включительно)"
   ],
   "cell_type": "code",
   "metadata": {},
   "execution_count": 15,
   "outputs": [
    {
     "output_type": "execute_result",
     "data": {
      "text/plain": [
       "array([[1., 0., 0.],\n",
       "       [0., 1., 0.],\n",
       "       [0., 0., 1.]])"
      ]
     },
     "metadata": {},
     "execution_count": 15
    }
   ]
  },
  {
   "cell_type": "code",
   "execution_count": 16,
   "metadata": {},
   "outputs": [
    {
     "output_type": "execute_result",
     "data": {
      "text/plain": [
       "array([[ 8, 13, 18,  4],\n",
       "       [25,  3, 18, 28],\n",
       "       [14, 15, 18, 24],\n",
       "       [ 1,  2,  3,  4]])"
      ]
     },
     "metadata": {},
     "execution_count": 16
    }
   ],
   "source": [
    "np.array([[8,13,18,4], [25,3,18,28], [14,15,18,24], [1,2,3,4]]) "
   ]
  },
  {
   "cell_type": "code",
   "execution_count": 17,
   "metadata": {},
   "outputs": [
    {
     "output_type": "execute_result",
     "data": {
      "text/plain": [
       "array([[  1. ,  57. ,  71. , 127. , 141. , 197. , 211. , 267. , 281. ],\n",
       "       [  0.5,  28.5,  35.5,  63.5,  70.5,  98.5, 105.5, 133.5, 140.5],\n",
       "       [-99. , -43. , -29. ,  27. ,  41. ,  97. , 111. , 167. , 181. ]])"
      ]
     },
     "metadata": {},
     "execution_count": 17
    }
   ],
   "source": [
    "my_secret = [x for x in range(1, 301, 7) if x%10 == 7 or x%10 == 1]\n",
    "np.array([my_secret, [x/2 for x in my_secret], [x-100 for x in my_secret]])\n",
    "#Какие элементы расположены в последнем столбце массива, заданного с помощью кода выше?"
   ]
  },
  {
   "cell_type": "code",
   "execution_count": 18,
   "metadata": {},
   "outputs": [
    {
     "output_type": "execute_result",
     "data": {
      "text/plain": [
       "array([[1, 1, 1, 1, 1],\n",
       "       [1, 1, 1, 1, 1],\n",
       "       [1, 1, 1, 1, 1],\n",
       "       [1, 1, 1, 1, 1],\n",
       "       [1, 1, 1, 1, 1]])"
      ]
     },
     "metadata": {},
     "execution_count": 18
    }
   ],
   "source": [
    "np.full((5,5), 1)"
   ]
  },
  {
   "cell_type": "code",
   "execution_count": 19,
   "metadata": {},
   "outputs": [
    {
     "output_type": "execute_result",
     "data": {
      "text/plain": [
       "array([[1., 1., 1., 1., 1.],\n",
       "       [1., 1., 1., 1., 1.],\n",
       "       [1., 1., 1., 1., 1.],\n",
       "       [1., 1., 1., 1., 1.],\n",
       "       [1., 1., 1., 1., 1.]])"
      ]
     },
     "metadata": {},
     "execution_count": 19
    }
   ],
   "source": [
    "np.ones((5,5))"
   ]
  },
  {
   "cell_type": "code",
   "execution_count": 20,
   "metadata": {},
   "outputs": [
    {
     "output_type": "execute_result",
     "data": {
      "text/plain": [
       "array([[1, 2, 3, 4, 5],\n",
       "       [5, 1, 2, 3, 4],\n",
       "       [4, 5, 1, 2, 3],\n",
       "       [3, 4, 5, 1, 2],\n",
       "       [2, 3, 4, 5, 1]])"
      ]
     },
     "metadata": {},
     "execution_count": 20
    }
   ],
   "source": [
    "np.array([[1,2,3,4,5], [5,1,2,3,4], [4,5,1,2,3], [3,4,5,1,2], [2,3,4,5,1]])"
   ]
  },
  {
   "cell_type": "code",
   "execution_count": 21,
   "metadata": {},
   "outputs": [
    {
     "output_type": "execute_result",
     "data": {
      "text/plain": [
       "array([1., 1., 1., 1., 1.])"
      ]
     },
     "metadata": {},
     "execution_count": 21
    }
   ],
   "source": [
    "np.ones(5)"
   ]
  },
  {
   "cell_type": "code",
   "execution_count": 22,
   "metadata": {},
   "outputs": [
    {
     "output_type": "execute_result",
     "data": {
      "text/plain": [
       "array([[1., 1., 1., 1.],\n",
       "       [1., 1., 1., 1.],\n",
       "       [1., 1., 1., 1.],\n",
       "       [1., 1., 1., 1.]])"
      ]
     },
     "metadata": {},
     "execution_count": 22
    }
   ],
   "source": [
    "np.ones((4, 4), dtype=float)"
   ]
  },
  {
   "cell_type": "code",
   "execution_count": 23,
   "metadata": {},
   "outputs": [
    {
     "output_type": "execute_result",
     "data": {
      "text/plain": [
       "array([ 1,  3,  5,  7,  9, 11, 13])"
      ]
     },
     "metadata": {},
     "execution_count": 23
    }
   ],
   "source": [
    "\n",
    "#Какие из вариантов кода можно использовать для создания массива, заполненного нечётными числами?\n",
    "np.array([i for i in range(11) if i%2])\n",
    "np.arange(1, 14, 2)"
   ]
  },
  {
   "cell_type": "code",
   "execution_count": 29,
   "metadata": {},
   "outputs": [
    {
     "output_type": "execute_result",
     "data": {
      "text/plain": [
       "array([1, 4, 7])"
      ]
     },
     "metadata": {},
     "execution_count": 29
    }
   ],
   "source": [
    "my_array = np.array([x for x in range(10)])\n",
    "my_array[5]\n",
    "my_array[-1]\n",
    "my_array[3:6]\n",
    "my_array[1:8:3]"
   ]
  },
  {
   "cell_type": "code",
   "execution_count": 47,
   "metadata": {},
   "outputs": [
    {
     "output_type": "execute_result",
     "data": {
      "text/plain": [
       "array([[ 1,  2,  3,  4],\n",
       "       [10, 11, 12, 13],\n",
       "       [45, 46, 47, 48]])"
      ]
     },
     "metadata": {},
     "execution_count": 47
    }
   ],
   "source": [
    "my_array = np.array([[1,2,3,4], [10,11,12,13], [45,46,47,48]])\n",
    "#my_array[2]\n",
    "my_array[:1,2]\n",
    "my_array"
   ]
  },
  {
   "cell_type": "code",
   "execution_count": 46,
   "metadata": {},
   "outputs": [
    {
     "output_type": "execute_result",
     "data": {
      "text/plain": [
       "array([[ 1,  2,  3,  4],\n",
       "       [10, 11, 12, 13]])"
      ]
     },
     "metadata": {},
     "execution_count": 46
    }
   ],
   "source": [
    "my_array[:-1]"
   ]
  },
  {
   "cell_type": "code",
   "execution_count": 59,
   "metadata": {},
   "outputs": [
    {
     "output_type": "execute_result",
     "data": {
      "text/plain": [
       "array([ 4, 13, 48])"
      ]
     },
     "metadata": {},
     "execution_count": 59
    }
   ],
   "source": [
    "my_array[:,3]"
   ]
  },
  {
   "source": [
    "Потренируемся извлекать из двумерного массива отдельные элементы и их срезы и производить над ними математические действия. Задания блока будем выполнять на примере массива, созданного кодом:"
   ],
   "cell_type": "markdown",
   "metadata": {}
  },
  {
   "cell_type": "code",
   "execution_count": 128,
   "metadata": {},
   "outputs": [],
   "source": [
    "first_line = [x*y for x in range(2, 100, 6) for y in range (7, 1, -2)]\n",
    "second_line = [x ** 0.5 for x in range(1000, 1101, 2)]\n",
    "third_line = [x**2 for x in range(51)]\n",
    "\n",
    "big_secret = np.array([first_line, second_line, third_line, second_line, first_line])"
   ]
  },
  {
   "cell_type": "code",
   "execution_count": 129,
   "metadata": {},
   "outputs": [
    {
     "output_type": "execute_result",
     "data": {
      "text/plain": [
       "array([[ 294.       ],\n",
       "       [  33.1662479],\n",
       "       [2500.       ],\n",
       "       [  33.1662479],\n",
       "       [ 294.       ]])"
      ]
     },
     "metadata": {},
     "execution_count": 129
    }
   ],
   "source": [
    "big_secret[:,50:51] #.sum()"
   ]
  },
  {
   "cell_type": "code",
   "execution_count": 130,
   "metadata": {},
   "outputs": [
    {
     "output_type": "execute_result",
     "data": {
      "text/plain": [
       "array([ 294.       ,   33.1662479, 2500.       ,   33.1662479,\n",
       "        294.       ])"
      ]
     },
     "metadata": {},
     "execution_count": 130
    }
   ],
   "source": [
    "big_secret[:,50]    #.sum()"
   ]
  },
  {
   "cell_type": "code",
   "execution_count": 131,
   "metadata": {},
   "outputs": [
    {
     "output_type": "execute_result",
     "data": {
      "text/plain": [
       "51"
      ]
     },
     "metadata": {},
     "execution_count": 131
    }
   ],
   "source": [
    "big_secret.shape[(1)]\n",
    "\n"
   ]
  },
  {
   "cell_type": "code",
   "execution_count": 132,
   "metadata": {},
   "outputs": [
    {
     "output_type": "execute_result",
     "data": {
      "text/plain": [
       "array([ 294.       ,   33.1662479, 2500.       ,   33.1662479,\n",
       "        294.       ])"
      ]
     },
     "metadata": {},
     "execution_count": 132
    }
   ],
   "source": [
    "b = big_secret[:, 50]\n",
    "b"
   ]
  },
  {
   "cell_type": "code",
   "execution_count": 133,
   "metadata": {},
   "outputs": [
    {
     "output_type": "execute_result",
     "data": {
      "text/plain": [
       "array([[1.40000000e+01, 1.00000000e+01, 6.00000000e+00, 5.60000000e+01,\n",
       "        4.00000000e+01, 2.40000000e+01, 9.80000000e+01, 7.00000000e+01,\n",
       "        4.20000000e+01, 1.40000000e+02, 1.00000000e+02, 6.00000000e+01,\n",
       "        1.82000000e+02, 1.30000000e+02, 7.80000000e+01, 2.24000000e+02,\n",
       "        1.60000000e+02, 9.60000000e+01, 2.66000000e+02, 1.90000000e+02,\n",
       "        1.14000000e+02, 3.08000000e+02, 2.20000000e+02, 1.32000000e+02,\n",
       "        3.50000000e+02, 2.50000000e+02, 1.50000000e+02, 3.92000000e+02,\n",
       "        2.80000000e+02, 1.68000000e+02, 4.34000000e+02, 3.10000000e+02,\n",
       "        1.86000000e+02, 4.76000000e+02, 3.40000000e+02, 2.04000000e+02,\n",
       "        5.18000000e+02, 3.70000000e+02, 2.22000000e+02, 5.60000000e+02,\n",
       "        4.00000000e+02, 2.40000000e+02, 6.02000000e+02, 4.30000000e+02,\n",
       "        2.58000000e+02, 6.44000000e+02, 4.60000000e+02, 2.76000000e+02,\n",
       "        6.86000000e+02, 4.90000000e+02, 2.94000000e+02],\n",
       "       [3.16227766e+01, 3.16543836e+01, 3.16859590e+01, 3.17175031e+01,\n",
       "        3.17490157e+01, 3.17804972e+01, 3.18119474e+01, 3.18433667e+01,\n",
       "        3.18747549e+01, 3.19061123e+01, 3.19374388e+01, 3.19687347e+01,\n",
       "        3.20000000e+01, 3.20312348e+01, 3.20624391e+01, 3.20936131e+01,\n",
       "        3.21247568e+01, 3.21558704e+01, 3.21869539e+01, 3.22180074e+01,\n",
       "        3.22490310e+01, 3.22800248e+01, 3.23109888e+01, 3.23419233e+01,\n",
       "        3.23728281e+01, 3.24037035e+01, 3.24345495e+01, 3.24653662e+01,\n",
       "        3.24961536e+01, 3.25269119e+01, 3.25576412e+01, 3.25883415e+01,\n",
       "        3.26190129e+01, 3.26496554e+01, 3.26802693e+01, 3.27108545e+01,\n",
       "        3.27414111e+01, 3.27719392e+01, 3.28024389e+01, 3.28329103e+01,\n",
       "        3.28633535e+01, 3.28937684e+01, 3.29241553e+01, 3.29545141e+01,\n",
       "        3.29848450e+01, 3.30151480e+01, 3.30454233e+01, 3.30756708e+01,\n",
       "        3.31058907e+01, 3.31360831e+01, 3.31662479e+01],\n",
       "       [0.00000000e+00, 1.00000000e+00, 4.00000000e+00, 9.00000000e+00,\n",
       "        1.60000000e+01, 2.50000000e+01, 3.60000000e+01, 4.90000000e+01,\n",
       "        6.40000000e+01, 8.10000000e+01, 1.00000000e+02, 1.21000000e+02,\n",
       "        1.44000000e+02, 1.69000000e+02, 1.96000000e+02, 2.25000000e+02,\n",
       "        2.56000000e+02, 2.89000000e+02, 3.24000000e+02, 3.61000000e+02,\n",
       "        4.00000000e+02, 4.41000000e+02, 4.84000000e+02, 5.29000000e+02,\n",
       "        5.76000000e+02, 6.25000000e+02, 6.76000000e+02, 7.29000000e+02,\n",
       "        7.84000000e+02, 8.41000000e+02, 9.00000000e+02, 9.61000000e+02,\n",
       "        1.02400000e+03, 1.08900000e+03, 1.15600000e+03, 1.22500000e+03,\n",
       "        1.29600000e+03, 1.36900000e+03, 1.44400000e+03, 1.52100000e+03,\n",
       "        1.60000000e+03, 1.68100000e+03, 1.76400000e+03, 1.84900000e+03,\n",
       "        1.93600000e+03, 2.02500000e+03, 2.11600000e+03, 2.20900000e+03,\n",
       "        2.30400000e+03, 2.40100000e+03, 2.50000000e+03],\n",
       "       [3.16227766e+01, 3.16543836e+01, 3.16859590e+01, 3.17175031e+01,\n",
       "        3.17490157e+01, 3.17804972e+01, 3.18119474e+01, 3.18433667e+01,\n",
       "        3.18747549e+01, 3.19061123e+01, 3.19374388e+01, 3.19687347e+01,\n",
       "        3.20000000e+01, 3.20312348e+01, 3.20624391e+01, 3.20936131e+01,\n",
       "        3.21247568e+01, 3.21558704e+01, 3.21869539e+01, 3.22180074e+01,\n",
       "        3.22490310e+01, 3.22800248e+01, 3.23109888e+01, 3.23419233e+01,\n",
       "        3.23728281e+01, 3.24037035e+01, 3.24345495e+01, 3.24653662e+01,\n",
       "        3.24961536e+01, 3.25269119e+01, 3.25576412e+01, 3.25883415e+01,\n",
       "        3.26190129e+01, 3.26496554e+01, 3.26802693e+01, 3.27108545e+01,\n",
       "        3.27414111e+01, 3.27719392e+01, 3.28024389e+01, 3.28329103e+01,\n",
       "        3.28633535e+01, 3.28937684e+01, 3.29241553e+01, 3.29545141e+01,\n",
       "        3.29848450e+01, 3.30151480e+01, 3.30454233e+01, 3.30756708e+01,\n",
       "        3.31058907e+01, 3.31360831e+01, 3.31662479e+01],\n",
       "       [1.40000000e+01, 1.00000000e+01, 6.00000000e+00, 5.60000000e+01,\n",
       "        4.00000000e+01, 2.40000000e+01, 9.80000000e+01, 7.00000000e+01,\n",
       "        4.20000000e+01, 1.40000000e+02, 1.00000000e+02, 6.00000000e+01,\n",
       "        1.82000000e+02, 1.30000000e+02, 7.80000000e+01, 2.24000000e+02,\n",
       "        1.60000000e+02, 9.60000000e+01, 2.66000000e+02, 1.90000000e+02,\n",
       "        1.14000000e+02, 3.08000000e+02, 2.20000000e+02, 1.32000000e+02,\n",
       "        3.50000000e+02, 2.50000000e+02, 1.50000000e+02, 3.92000000e+02,\n",
       "        2.80000000e+02, 1.68000000e+02, 4.34000000e+02, 3.10000000e+02,\n",
       "        1.86000000e+02, 4.76000000e+02, 3.40000000e+02, 2.04000000e+02,\n",
       "        5.18000000e+02, 3.70000000e+02, 2.22000000e+02, 5.60000000e+02,\n",
       "        4.00000000e+02, 2.40000000e+02, 6.02000000e+02, 4.30000000e+02,\n",
       "        2.58000000e+02, 6.44000000e+02, 4.60000000e+02, 2.76000000e+02,\n",
       "        6.86000000e+02, 4.90000000e+02, 2.94000000e+02]])"
      ]
     },
     "metadata": {},
     "execution_count": 133
    }
   ],
   "source": [
    "big_secret"
   ]
  },
  {
   "cell_type": "code",
   "execution_count": 134,
   "metadata": {},
   "outputs": [],
   "source": [
    "your_array = np.random.randn(6,3)\n",
    "\n",
    "i = 1\n",
    "\n",
    "a=your_array[:, i:i+1]"
   ]
  },
  {
   "cell_type": "code",
   "execution_count": 135,
   "metadata": {},
   "outputs": [
    {
     "output_type": "execute_result",
     "data": {
      "text/plain": [
       "array([[ 0.87373551,  0.33450474,  1.06399277],\n",
       "       [ 1.91992861,  0.67940908, -2.99943945],\n",
       "       [ 0.01292765,  0.59452153, -0.20935598],\n",
       "       [-0.03857844, -0.25719379, -2.1452384 ],\n",
       "       [-1.97822269, -0.0852396 , -0.70754557],\n",
       "       [ 1.03230709, -1.4809075 ,  0.91208553]])"
      ]
     },
     "metadata": {},
     "execution_count": 135
    }
   ],
   "source": [
    "your_array"
   ]
  },
  {
   "cell_type": "code",
   "execution_count": 136,
   "metadata": {},
   "outputs": [
    {
     "output_type": "execute_result",
     "data": {
      "text/plain": [
       "array([[ 0.33450474],\n",
       "       [ 0.67940908],\n",
       "       [ 0.59452153],\n",
       "       [-0.25719379],\n",
       "       [-0.0852396 ],\n",
       "       [-1.4809075 ]])"
      ]
     },
     "metadata": {},
     "execution_count": 136
    }
   ],
   "source": [
    "a"
   ]
  },
  {
   "cell_type": "code",
   "execution_count": 137,
   "metadata": {},
   "outputs": [
    {
     "output_type": "execute_result",
     "data": {
      "text/plain": [
       "3154.33"
      ]
     },
     "metadata": {},
     "execution_count": 137
    }
   ],
   "source": [
    "\n",
    "#Чему равна сумма элементов последнего столбца массива? Ответ округлите до двух цифр после запятой:\n",
    "round(big_secret[:,50].sum(),2)"
   ]
  },
  {
   "cell_type": "code",
   "execution_count": 138,
   "metadata": {},
   "outputs": [
    {
     "output_type": "execute_result",
     "data": {
      "text/plain": [
       "121.37"
      ]
     },
     "metadata": {},
     "execution_count": 138
    }
   ],
   "source": [
    "#Выделите из каждой строки массива big_secret первые 5 элементов. Чему равна сумма элементов главной диагонали получившейся матрицы? #Округлите ответ до двух цифр после запятой:\n",
    "diag = np.diag(big_secret[:, :5])\n",
    "round(diag.sum(),2)"
   ]
  },
  {
   "source": [
    "Выделите из каждой строки массива big_secret последние 5 элементов. Чему равно произведение элементов главной диагонали получившейся матрицы? Введите полученный результат без изменений и округлений.\n",
    "\n",
    "У меня есть одномерный массив NumPy:\n",
    "a = numpy.array([2,3,3])\n",
    "Я хотел бы иметь произведение всех элементов, в данном случае 18.\n",
    "Единственный способ, который я мог бы найти, чтобы сделать это, был бы:\n",
    "b = reduce(lambda x,y: x*y, a)\n",
    "другие варианты\n",
    "reduce(lambda x,y: x*y, a) -- 24.2µs,\n",
    "\n",
    "numpy.prod(a) -- 3.9µs.\n",
    "\n",
    " a.prod() -- 2.67µs.\n"
   ],
   "cell_type": "markdown",
   "metadata": {}
  },
  {
   "cell_type": "code",
   "execution_count": 139,
   "metadata": {},
   "outputs": [
    {
     "output_type": "execute_result",
     "data": {
      "text/plain": [
       "341505315559.2347"
      ]
     },
     "metadata": {},
     "execution_count": 139
    }
   ],
   "source": [
    "diag = np.diag(big_secret[:, -5:])\n",
    "diag.prod()"
   ]
  },
  {
   "cell_type": "code",
   "execution_count": 140,
   "metadata": {},
   "outputs": [
    {
     "output_type": "execute_result",
     "data": {
      "text/plain": [
       "array([[96, 21,  8, 75, 61, 48],\n",
       "       [73, 86, 97, 15, 37,  4],\n",
       "       [92, 78, 78, 34, 57, 78],\n",
       "       [25, 63,  7, 13, 86, 57]])"
      ]
     },
     "metadata": {},
     "execution_count": 140
    }
   ],
   "source": [
    "#Создадим массив 4 х 6:\n",
    "my_array = np.random.randint(1, 100, (4, 6)) \n",
    "my_array"
   ]
  },
  {
   "source": [
    "Выделим из созданного массива квадрат 2 х 2, содержащий 4 элемента, расположенные в центре матрицы:"
   ],
   "cell_type": "markdown",
   "metadata": {}
  },
  {
   "cell_type": "code",
   "execution_count": 141,
   "metadata": {},
   "outputs": [
    {
     "output_type": "execute_result",
     "data": {
      "text/plain": [
       "array([[97, 15],\n",
       "       [78, 34]])"
      ]
     },
     "metadata": {},
     "execution_count": 141
    }
   ],
   "source": [
    "my_slice = my_array[1:3, 2:4]\n",
    "my_slice"
   ]
  },
  {
   "source": [
    "Заменим эти элементы на нули и посмотрим, как изменится содержимое исходной матрицы:"
   ],
   "cell_type": "markdown",
   "metadata": {}
  },
  {
   "cell_type": "code",
   "execution_count": 142,
   "metadata": {},
   "outputs": [
    {
     "output_type": "execute_result",
     "data": {
      "text/plain": [
       "array([[96, 21,  8, 75, 61, 48],\n",
       "       [73, 86,  0,  0, 37,  4],\n",
       "       [92, 78,  0,  0, 57, 78],\n",
       "       [25, 63,  7, 13, 86, 57]])"
      ]
     },
     "metadata": {},
     "execution_count": 142
    }
   ],
   "source": [
    "my_slice[:] = 0\n",
    "my_array"
   ]
  },
  {
   "cell_type": "code",
   "execution_count": 143,
   "metadata": {},
   "outputs": [
    {
     "output_type": "execute_result",
     "data": {
      "text/plain": [
       "array([[-1, 21, -1, 75, -1, 48],\n",
       "       [73, 86,  0,  0, 37,  4],\n",
       "       [-1, 78, -1,  0, -1, 78],\n",
       "       [25, 63,  7, 13, 86, 57]])"
      ]
     },
     "metadata": {},
     "execution_count": 143
    }
   ],
   "source": [
    "sl2 = my_array[::2,::2]\n",
    "sl2[:]=-1\n",
    "my_array"
   ]
  },
  {
   "cell_type": "code",
   "execution_count": 144,
   "metadata": {},
   "outputs": [
    {
     "output_type": "execute_result",
     "data": {
      "text/plain": [
       "array([[-1, 21, -1, 75, -1, 48],\n",
       "       [73,  1,  0,  1, 37,  1],\n",
       "       [-1, 78, -1,  0, -1, 78],\n",
       "       [25,  1,  7,  1, 86,  1]])"
      ]
     },
     "metadata": {},
     "execution_count": 144
    }
   ],
   "source": [
    "sl2 = my_array[1::2,1::2]\n",
    "sl2[:]=1\n",
    "my_array"
   ]
  },
  {
   "cell_type": "code",
   "execution_count": 145,
   "metadata": {},
   "outputs": [],
   "source": [
    "big2 = big_secret[::2, ::2]\n",
    "big2[:] = -1"
   ]
  },
  {
   "cell_type": "code",
   "execution_count": 146,
   "metadata": {},
   "outputs": [],
   "source": [
    "big1 = big_secret[1::2, 1::2]\n",
    "big1[:] = 1"
   ]
  },
  {
   "cell_type": "code",
   "execution_count": 153,
   "metadata": {},
   "outputs": [
    {
     "output_type": "execute_result",
     "data": {
      "text/plain": [
       "-1.0"
      ]
     },
     "metadata": {},
     "execution_count": 153
    }
   ],
   "source": [
    "big_secret[:,:5].diagonal().sum()"
   ]
  },
  {
   "cell_type": "code",
   "execution_count": 156,
   "metadata": {},
   "outputs": [
    {
     "output_type": "execute_result",
     "data": {
      "text/plain": [
       "-1.0"
      ]
     },
     "metadata": {},
     "execution_count": 156
    }
   ],
   "source": [
    "ndiag = np.diag(big_secret[:, -5:])\n",
    "ndiag.prod()\n",
    "\n"
   ]
  },
  {
   "source": [
    "Особенностью работы с массивами в NumPy является то, что возможности библиотеки позволяют выполнять любые математические действия с массивами без использования циклов for, благодаря чему вычисления производятся с большой скоростью. В NumPy над массивами можно производить все стандартные арифметические операции.\n",
    "\n",
    "Операции выполняются поэлементно, поэтому для получения корректного результата размерность массивов должна быть одинаковой. Также можно производить математические операции между массивом и числом.\n",
    "\n",
    "У нас есть два массива: найдём их сумму, разность, произведение, частное и умножим один из массивов на число:"
   ],
   "cell_type": "markdown",
   "metadata": {}
  },
  {
   "cell_type": "code",
   "execution_count": 159,
   "metadata": {},
   "outputs": [
    {
     "output_type": "stream",
     "name": "stdout",
     "text": [
      "Сумма: [15 21 27]\nРазность: [9 9 9]\nПроизведение: [ 36  90 162]\nЧастное: [0.25 0.4  0.5 ]\nУмножение на число: [ 6 12 18]\n"
     ]
    }
   ],
   "source": [
    "a = np.array([3,6,9])\n",
    "b = np.array([12,15,18])\n",
    "\n",
    "result1 = a+b\n",
    "result2 = b-a\n",
    "result3 = a*b\n",
    "result4 = a/b\n",
    "result5 = a*2\n",
    "print('Сумма: {}\\nРазность: {}\\nПроизведение: {}\\nЧастное: {}\\nУмножение на число: {}'.format(result1, result2, result3, result4, result5))"
   ]
  },
  {
   "source": [
    "Универсальные функции\n",
    "Универсальными называют функции, которые выполняют поэлементные операции над данными, хранящимися в объектах ndarray.  Большинство универсальных функций относятся к унарным операциям и выполняются над каждым элементом массива по очереди. Унарные операции — это  и есть операции, которые выполняются над каждым элементом массива по очереди.\n",
    "\n",
    "Рассмотрим список часто используемых универсальных функций NumPy. При вызове каждой из этих функций необходимо указывать название библиотеки NumPy: np.isnan(имя_массива):\n",
    "\n",
    "Функция\tОписание\n",
    "abs\tАбсолютное значение целых, вещественных или комплексных элементов массива\n",
    "sqrt\tКвадратный корень каждого элемента массива\n",
    "exp\tЭкспонента (ex) каждого элемента массива\n",
    "log, log10, log2, log1p\tНатуральный (по основанию е), десятичный, двоичный логарифм и функция log(1+x) соответственно\n",
    "modf\tДробные и целые части массива в виде отдельных массивов\n",
    "isnan\tМассив логических (булевых) значений, показывающий, какие из элементов исходного массива  являются NaN (не числами)\n",
    "cos, sin, tan\tОбычные тригонометрические функции\n",
    "arccos, arcsin, arctan\tОбратные тригонометрические функции"
   ],
   "cell_type": "markdown",
   "metadata": {}
  },
  {
   "source": [
    "Изменение размерности массива\n",
    "В некоторых задачах машинного обучения для подготовки данных к обработке нужно изменить исходную форму массива, например, преобразовать многомерный массив в одномерный, поменять местами строки и столбцы.\n",
    "\n",
    "Замена местами строк и столбцов двумерного массива называется транспонированием. Для выполнения этой операции в NumPy используется метод T:"
   ],
   "cell_type": "markdown",
   "metadata": {}
  },
  {
   "cell_type": "code",
   "execution_count": 160,
   "metadata": {},
   "outputs": [
    {
     "output_type": "execute_result",
     "data": {
      "text/plain": [
       "array([[ 1,  6],\n",
       "       [ 2,  7],\n",
       "       [ 3,  8],\n",
       "       [ 4,  9],\n",
       "       [ 5, 10]])"
      ]
     },
     "metadata": {},
     "execution_count": 160
    }
   ],
   "source": [
    "my_array = np.array([[1,2,3,4,5], [6,7,8,9,10]])\n",
    "my_array.T"
   ]
  },
  {
   "source": [
    "Для превращения массива одной размерности в массив другой — обычно для преобразования одномерного массива в многомерный — используется метод reshape. Изменить размерность массива можно только в том случае, если число элементов в исходном и в целевом массиве совпадает:"
   ],
   "cell_type": "markdown",
   "metadata": {}
  },
  {
   "cell_type": "code",
   "execution_count": 162,
   "metadata": {},
   "outputs": [
    {
     "output_type": "execute_result",
     "data": {
      "text/plain": [
       "array([0, 2, 3, 2, 4, 8, 6, 1, 5, 6, 7, 3, 3, 9, 7, 6, 8, 9, 4, 7])"
      ]
     },
     "metadata": {},
     "execution_count": 162
    }
   ],
   "source": [
    "my_array = np.random.randint(0, 10, 20)\n",
    "my_array"
   ]
  },
  {
   "cell_type": "code",
   "execution_count": 165,
   "metadata": {},
   "outputs": [
    {
     "output_type": "execute_result",
     "data": {
      "text/plain": [
       "array([[0, 2, 3, 2],\n",
       "       [4, 8, 6, 1],\n",
       "       [5, 6, 7, 3],\n",
       "       [3, 9, 7, 6],\n",
       "       [8, 9, 4, 7]])"
      ]
     },
     "metadata": {},
     "execution_count": 165
    }
   ],
   "source": [
    "my_array.reshape((5,4))"
   ]
  },
  {
   "source": [
    "Для преобразования многомерного массива в одномерный используется метод flatten:"
   ],
   "cell_type": "markdown",
   "metadata": {}
  },
  {
   "cell_type": "code",
   "execution_count": 167,
   "metadata": {},
   "outputs": [
    {
     "output_type": "execute_result",
     "data": {
      "text/plain": [
       "array([[  1,   2,   3],\n",
       "       [ 11,  22,  33],\n",
       "       [111, 222, 333]])"
      ]
     },
     "metadata": {},
     "execution_count": 167
    }
   ],
   "source": [
    "my_array = np.array([[1,2,3], [11,22,33], [111,222,333]])\n",
    "my_array\n"
   ]
  },
  {
   "cell_type": "code",
   "execution_count": 168,
   "metadata": {},
   "outputs": [
    {
     "output_type": "execute_result",
     "data": {
      "text/plain": [
       "array([  1,   2,   3,  11,  22,  33, 111, 222, 333])"
      ]
     },
     "metadata": {},
     "execution_count": 168
    }
   ],
   "source": [
    "my_array.flatten()"
   ]
  },
  {
   "cell_type": "code",
   "execution_count": 169,
   "metadata": {},
   "outputs": [
    {
     "output_type": "execute_result",
     "data": {
      "text/plain": [
       "array([[  1,   2,   3],\n",
       "       [ 11,  22,  33],\n",
       "       [111, 222, 333]])"
      ]
     },
     "metadata": {},
     "execution_count": 169
    }
   ],
   "source": [
    "my_array.reshape((3,3))"
   ]
  },
  {
   "source": [
    "Научимся сравнивать элементы массива с числом и извлекать из него только те элементы, которые больше или меньше заданного числа. Для этого создадим массив размера 3х4, произвольно заполненный числами от 0 до 10. "
   ],
   "cell_type": "markdown",
   "metadata": {}
  },
  {
   "cell_type": "code",
   "execution_count": 170,
   "metadata": {},
   "outputs": [],
   "source": [
    "my_array = np.random.randint(0, 10, (3,4))"
   ]
  },
  {
   "cell_type": "code",
   "execution_count": 171,
   "metadata": {},
   "outputs": [
    {
     "output_type": "execute_result",
     "data": {
      "text/plain": [
       "array([[6, 7, 6, 6],\n",
       "       [0, 0, 1, 7],\n",
       "       [6, 7, 7, 7]])"
      ]
     },
     "metadata": {},
     "execution_count": 171
    }
   ],
   "source": [
    "my_array"
   ]
  },
  {
   "cell_type": "code",
   "execution_count": 172,
   "metadata": {},
   "outputs": [
    {
     "output_type": "execute_result",
     "data": {
      "text/plain": [
       "array([[False, False, False, False],\n",
       "       [ True,  True,  True, False],\n",
       "       [False, False, False, False]])"
      ]
     },
     "metadata": {},
     "execution_count": 172
    }
   ],
   "source": [
    "my_array<5"
   ]
  },
  {
   "source": [
    "Мы получили новый массив, заполненный значениями True/False в зависимости от того, меньше или больше пяти элемент, находящийся на соответствующей позиции в исходном массиве. Для того, чтобы получить элементы массива my_array, которые меньше пяти, воспользуемся кодом ниже. Отобранные элементы представляют собой одномерный массив."
   ],
   "cell_type": "markdown",
   "metadata": {}
  },
  {
   "cell_type": "code",
   "execution_count": 173,
   "metadata": {},
   "outputs": [
    {
     "output_type": "execute_result",
     "data": {
      "text/plain": [
       "array([0, 0, 1])"
      ]
     },
     "metadata": {},
     "execution_count": 173
    }
   ],
   "source": [
    "my_array[my_array<5]"
   ]
  },
  {
   "source": [
    "Маска нужна для выбора только определенных строк или столбцов из всего массива и скрытия остальных. Маска в Python задаётся при помощи булевых 0 и 1, где 0 скрывает столбец или строку, а 1 оставляет ее на виду. Выведем первый и третрий столбец массива:"
   ],
   "cell_type": "markdown",
   "metadata": {}
  },
  {
   "cell_type": "code",
   "execution_count": 174,
   "metadata": {},
   "outputs": [
    {
     "output_type": "execute_result",
     "data": {
      "text/plain": [
       "array([[6, 6],\n",
       "       [0, 1],\n",
       "       [6, 7]])"
      ]
     },
     "metadata": {},
     "execution_count": 174
    }
   ],
   "source": [
    "mask = np.array([1, 0, 1, 0], dtype=bool)\n",
    "my_array[:, mask]"
   ]
  },
  {
   "source": [
    "В двумерных массивах можно выполнять сортировку элементов строк и столбцов:\n",
    "\n",
    "Сортировка выполняется с помощью функции sort, в качестве параметров функция получает сам массив, а также номер оси (0 (для столбцов) или 1 (для строк)) , элементы которой необходимо отсортировать. \n",
    "\n",
    "Как можно отсортировать элементы строк и столбцов?\n",
    "\n",
    "Отсортируем элементы строк:"
   ],
   "cell_type": "markdown",
   "metadata": {}
  },
  {
   "cell_type": "code",
   "execution_count": 202,
   "metadata": {},
   "outputs": [
    {
     "output_type": "execute_result",
     "data": {
      "text/plain": [
       "array([[9, 6, 6, 7, 0, 5],\n",
       "       [3, 2, 5, 4, 2, 5],\n",
       "       [4, 2, 0, 5, 4, 1],\n",
       "       [9, 0, 7, 6, 6, 6]])"
      ]
     },
     "metadata": {},
     "execution_count": 202
    }
   ],
   "source": [
    "my_array = np.random.randint(0, 10, (4, 6))\n",
    "my_array\n"
   ]
  },
  {
   "cell_type": "code",
   "execution_count": 203,
   "metadata": {},
   "outputs": [
    {
     "output_type": "execute_result",
     "data": {
      "text/plain": [
       "array([9, 3, 4, 9])"
      ]
     },
     "metadata": {},
     "execution_count": 203
    }
   ],
   "source": [
    "my_array[:,0]"
   ]
  },
  {
   "cell_type": "code",
   "execution_count": 239,
   "metadata": {},
   "outputs": [
    {
     "output_type": "execute_result",
     "data": {
      "text/plain": [
       "array([[0, 5, 6, 6, 7, 9],\n",
       "       [2, 2, 3, 4, 5, 5],\n",
       "       [0, 1, 2, 4, 4, 5],\n",
       "       [0, 6, 6, 6, 7, 9]])"
      ]
     },
     "metadata": {},
     "execution_count": 239
    }
   ],
   "source": [
    "#np.sort(my_array, ) \n",
    "np.sort(my_array, axis=1)"
   ]
  },
  {
   "cell_type": "code",
   "execution_count": 194,
   "metadata": {},
   "outputs": [
    {
     "output_type": "execute_result",
     "data": {
      "text/plain": [
       "array([[0, 5, 1, 1, 0, 1],\n",
       "       [4, 7, 2, 2, 0, 5],\n",
       "       [4, 8, 4, 4, 7, 6],\n",
       "       [8, 9, 8, 5, 8, 7]])"
      ]
     },
     "metadata": {},
     "execution_count": 194
    }
   ],
   "source": [
    "np.sort(my_array, axis=0) #np.sort(my_array, axis=-2)\n"
   ]
  },
  {
   "cell_type": "code",
   "execution_count": 205,
   "metadata": {},
   "outputs": [],
   "source": [
    "first = [x**(1/2) for x in range(100)]\n",
    "second = [x**(1/3) for x in range(100, 200)]\n",
    "third = [x/y for x in range(200,300,2) for y in [3,5]]\n",
    "\n",
    "great_secret = np.array([first, second, third]).T\n",
    "\n"
   ]
  },
  {
   "cell_type": "code",
   "execution_count": 212,
   "metadata": {},
   "outputs": [
    {
     "output_type": "execute_result",
     "data": {
      "text/plain": [
       "array([], shape=(0, 3), dtype=float64)"
      ]
     },
     "metadata": {},
     "execution_count": 212
    }
   ],
   "source": [
    "great_secret[:0]"
   ]
  },
  {
   "cell_type": "code",
   "execution_count": 197,
   "metadata": {},
   "outputs": [
    {
     "output_type": "execute_result",
     "data": {
      "text/plain": [
       "(100, 3)"
      ]
     },
     "metadata": {},
     "execution_count": 197
    }
   ],
   "source": [
    "great_secret.shape"
   ]
  },
  {
   "cell_type": "code",
   "execution_count": 204,
   "metadata": {},
   "outputs": [
    {
     "output_type": "execute_result",
     "data": {
      "text/plain": [
       "array([], shape=(0, 3), dtype=float64)"
      ]
     },
     "metadata": {},
     "execution_count": 204
    }
   ],
   "source": [
    "great_secret[:0]"
   ]
  },
  {
   "source": [
    "Чему равна сумма косинусов элементов первой строки массива great_secret? Ответ округлите до двух знаков после запятой"
   ],
   "cell_type": "markdown",
   "metadata": {}
  },
  {
   "cell_type": "code",
   "execution_count": 227,
   "metadata": {},
   "outputs": [
    {
     "output_type": "execute_result",
     "data": {
      "text/plain": [
       "0.16"
      ]
     },
     "metadata": {},
     "execution_count": 227
    }
   ],
   "source": [
    "round(np.cos(great_secret[0]).sum(),2)\n"
   ]
  },
  {
   "cell_type": "code",
   "execution_count": 230,
   "metadata": {},
   "outputs": [
    {
     "output_type": "execute_result",
     "data": {
      "text/plain": [
       "5470.0"
      ]
     },
     "metadata": {},
     "execution_count": 230
    }
   ],
   "source": [
    "#Чему равна сумма элементов массива great_secret, значение которых больше 50?\n",
    "great_secret[great_secret>50].sum()"
   ]
  },
  {
   "source": [
    "Переведите массив great_secret в одномерную форму. Какое значение в получившемся массиве имеет элемент с индексом 150? Скопируйте ответ из Jupyter Notebook без изменений."
   ],
   "cell_type": "markdown",
   "metadata": {}
  },
  {
   "cell_type": "code",
   "execution_count": 235,
   "metadata": {},
   "outputs": [
    {
     "output_type": "execute_result",
     "data": {
      "text/plain": [
       "7.0710678118654755"
      ]
     },
     "metadata": {},
     "execution_count": 235
    }
   ],
   "source": [
    "\n",
    "great_secret.flatten()[150]\n",
    "\n"
   ]
  },
  {
   "source": [
    "Отсортируйте значения столбцов массива great_secret по возрастанию. Чему равна сумма элементов последней строки отсортированного массива? Ответ округлите до двух цифр после запятой."
   ],
   "cell_type": "markdown",
   "metadata": {}
  },
  {
   "cell_type": "code",
   "execution_count": 247,
   "metadata": {},
   "outputs": [
    {
     "output_type": "execute_result",
     "data": {
      "text/plain": [
       "115.12"
      ]
     },
     "metadata": {},
     "execution_count": 247
    }
   ],
   "source": [
    "round(np.sort(great_secret, axis=0)[-1].sum(), 2)"
   ]
  },
  {
   "source": [
    "Математические и статистические операции\n",
    "Модуль NumPy содержит множество базовых статистических функций, которые помогают описать имеющиеся данные: среднее арифметическое (mean), медиана (median), стандартное отклонение (std), корреляция (corrcoef) и прочие. Давайте посмотрим, как они работают. \n",
    "\n",
    "Для изучения функций будем использовать набор данных, содержащих информацию об учениках шестого класса. Данные об учениках представлены в таблице:\n",
    "\n",
    "ID (номер в журнале)\tРост, см\tМасса тела, кг\tСредний балл\n",
    "1\t135\t34\t4\n",
    "2\t160\t43\t5\n",
    "3\t163\t40\t4.3\n",
    "4\t147\t44\t5\n",
    "5\t138\t41\t4.7\n",
    "6\t149\t54\t3.9\n",
    "7\t136\t39\t4.2\n",
    "8\t154\t48\t4.9\n",
    "9\t137\t35\t3.7\n",
    "10\t165\t60\t4.6\n",
    "Создайте массив, содержащий эти данные, и сохраните его под именем students."
   ],
   "cell_type": "markdown",
   "metadata": {}
  },
  {
   "cell_type": "code",
   "execution_count": 272,
   "metadata": {},
   "outputs": [],
   "source": [
    "studentm = np.matrix ('1\t135\t34\t4; 2\t160\t43\t5; 3\t163\t40\t4.3; 4\t147\t44\t5; 5\t138\t41\t4.7; 6\t149\t54\t3.9; 7\t136\t39\t4.2; 8\t154\t48\t4.9; 9\t137\t35\t3.7; 10\t165\t60\t4.6' )"
   ]
  },
  {
   "cell_type": "code",
   "execution_count": 273,
   "metadata": {},
   "outputs": [
    {
     "output_type": "execute_result",
     "data": {
      "text/plain": [
       "matrix([[  1. , 135. ,  34. ,   4. ],\n",
       "        [  2. , 160. ,  43. ,   5. ],\n",
       "        [  3. , 163. ,  40. ,   4.3],\n",
       "        [  4. , 147. ,  44. ,   5. ],\n",
       "        [  5. , 138. ,  41. ,   4.7],\n",
       "        [  6. , 149. ,  54. ,   3.9],\n",
       "        [  7. , 136. ,  39. ,   4.2],\n",
       "        [  8. , 154. ,  48. ,   4.9],\n",
       "        [  9. , 137. ,  35. ,   3.7],\n",
       "        [ 10. , 165. ,  60. ,   4.6]])"
      ]
     },
     "metadata": {},
     "execution_count": 273
    }
   ],
   "source": [
    "studentm"
   ]
  },
  {
   "cell_type": "code",
   "execution_count": 274,
   "metadata": {},
   "outputs": [],
   "source": [
    "stud = student.flatten()"
   ]
  },
  {
   "cell_type": "code",
   "execution_count": 275,
   "metadata": {},
   "outputs": [
    {
     "output_type": "execute_result",
     "data": {
      "text/plain": [
       "matrix([[  1. , 135. ,  34. ,   4. ,   2. , 160. ,  43. ,   5. ,   3. ,\n",
       "         163. ,  40. ,   4.3,   4. , 147. ,  44. ,   5. ,   5. , 138. ,\n",
       "          41. ,   4.7,   6. , 149. ,  54. ,   3.9,   7. , 136. ,  39. ,\n",
       "           4.2,   8. , 154. ,  48. ,   4.9,   9. , 137. ,  35. ,   3.7,\n",
       "          10. , 165. ,  60. ,   4.6]])"
      ]
     },
     "metadata": {},
     "execution_count": 275
    }
   ],
   "source": [
    "stud"
   ]
  },
  {
   "cell_type": "code",
   "execution_count": 279,
   "metadata": {},
   "outputs": [],
   "source": [
    "students = np.array([[  1. , 135. ,  34. ,   4. ],\n",
    "        [  2. , 160. ,  43. ,   5. ],\n",
    "        [  3. , 163. ,  40. ,   4.3],\n",
    "        [  4. , 147. ,  44. ,   5. ],\n",
    "        [  5. , 138. ,  41. ,   4.7],\n",
    "        [  6. , 149. ,  54. ,   3.9],\n",
    "        [  7. , 136. ,  39. ,   4.2],\n",
    "        [  8. , 154. ,  48. ,   4.9],\n",
    "        [  9. , 137. ,  35. ,   3.7],\n",
    "        [ 10. , 165. ,  60. ,   4.6]])"
   ]
  },
  {
   "cell_type": "code",
   "execution_count": 280,
   "metadata": {},
   "outputs": [
    {
     "output_type": "execute_result",
     "data": {
      "text/plain": [
       "array([[  1. , 135. ,  34. ,   4. ],\n",
       "       [  2. , 160. ,  43. ,   5. ],\n",
       "       [  3. , 163. ,  40. ,   4.3],\n",
       "       [  4. , 147. ,  44. ,   5. ],\n",
       "       [  5. , 138. ,  41. ,   4.7],\n",
       "       [  6. , 149. ,  54. ,   3.9],\n",
       "       [  7. , 136. ,  39. ,   4.2],\n",
       "       [  8. , 154. ,  48. ,   4.9],\n",
       "       [  9. , 137. ,  35. ,   3.7],\n",
       "       [ 10. , 165. ,  60. ,   4.6]])"
      ]
     },
     "metadata": {},
     "execution_count": 280
    }
   ],
   "source": [
    "students"
   ]
  },
  {
   "source": [
    "Среднее арифметическое (mean) — сумма всех значений, делённая на их количество, показывает общую тенденцию данных и описывает их одним числом. Узнаем среднюю успеваемость школьников в классе, используя функцию mean:"
   ],
   "cell_type": "markdown",
   "metadata": {}
  },
  {
   "cell_type": "code",
   "execution_count": 281,
   "metadata": {},
   "outputs": [
    {
     "output_type": "execute_result",
     "data": {
      "text/plain": [
       "4.430000000000001"
      ]
     },
     "metadata": {},
     "execution_count": 281
    }
   ],
   "source": [
    "mean = np.mean(students[:,-1])\n",
    "mean\n"
   ]
  },
  {
   "source": [
    "Медиана — это такое число, что ровно половина элементов из выборки больше него, а другая половина меньше него. Если в выборке есть выбросы (значения, которые принимают величину существенно выше или ниже среднего и выделяются из всей выборки), то медиана будет лучше характеризовать всю выборку, чем среднее арифметическое.\n",
    "\n",
    "Узнаем, как учится средний ученик, с помощью функции median:"
   ],
   "cell_type": "markdown",
   "metadata": {}
  },
  {
   "cell_type": "code",
   "execution_count": 282,
   "metadata": {},
   "outputs": [
    {
     "output_type": "execute_result",
     "data": {
      "text/plain": [
       "4.449999999999999"
      ]
     },
     "metadata": {},
     "execution_count": 282
    }
   ],
   "source": [
    "median = np.median(students[:,-1])\n",
    "median\n"
   ]
  },
  {
   "source": [
    "Заметим, что школьников в выборке всего 10, а медиана — это значение выборки, при котором ровно половина значений меньше неё, а половина — больше. \n",
    "\n",
    "Таким образом, при вычислении медианы Python сначала упорядочит значения по возрастанию, а затем возьмет среднее из серединных элементов полученного ряда. В нашем случае это будут пятый и шестой элементы. Мы можем это проверить, используя функцию sort для сортировки значений оценок: "
   ],
   "cell_type": "markdown",
   "metadata": {}
  },
  {
   "cell_type": "code",
   "execution_count": 283,
   "metadata": {},
   "outputs": [
    {
     "output_type": "execute_result",
     "data": {
      "text/plain": [
       "4.449999999999999"
      ]
     },
     "metadata": {},
     "execution_count": 283
    }
   ],
   "source": [
    "sort = np.sort(students[:,-1])\n",
    "(sort[4]+sort[5])/2"
   ]
  },
  {
   "cell_type": "code",
   "execution_count": 286,
   "metadata": {},
   "outputs": [
    {
     "output_type": "execute_result",
     "data": {
      "text/plain": [
       "4.6"
      ]
     },
     "metadata": {},
     "execution_count": 286
    }
   ],
   "source": [
    "sort[5]"
   ]
  },
  {
   "cell_type": "code",
   "execution_count": 289,
   "metadata": {},
   "outputs": [
    {
     "output_type": "execute_result",
     "data": {
      "text/plain": [
       "42.0"
      ]
     },
     "metadata": {},
     "execution_count": 289
    }
   ],
   "source": [
    "#медианное значение массы тела школьников\n",
    "np.median(students[:,-2])"
   ]
  },
  {
   "source": [
    "На сколько среднее арифметическое массы тела школьников больше медианного значения для этого же показателя? Дайте ответ в килограммах с точностью до одной десятой кг."
   ],
   "cell_type": "markdown",
   "metadata": {}
  },
  {
   "cell_type": "code",
   "execution_count": 291,
   "metadata": {},
   "outputs": [
    {
     "output_type": "execute_result",
     "data": {
      "text/plain": [
       "1.8"
      ]
     },
     "metadata": {},
     "execution_count": 291
    }
   ],
   "source": [
    "round(np.mean(students[:, -2]) - np.median(students[:, -2]), 1)"
   ]
  },
  {
   "source": [
    "Корреляция — статистическая взаимосвязь случайных величин. Мерой корреляции служит одноименный коэффициент, который показывает, насколько сильно связаны величины, он может быть положительным или отрицательным, а по модулю принимает значение от 0 до 1. Отрицательный коэффициент говорит о том, что случайные величины связаны, но при увеличении одной из них вторая уменьшается. Если коэффициент положительный, то величины изменяются в одном направлении.\n",
    "\n",
    "Аналитики часто оперируют в своей работе данной величиной и ошибаются, делая ложные выводы о данных. Связано это с тем, что не всегда наличие корреляции между двумя показателями говорит о том, что между ними есть причинно-следственная связь.\n",
    "\n",
    "Давайте узнаем, как связан рост и вес наших школьников, посчитав коэффициент корреляции столбцов матрицы:"
   ],
   "cell_type": "markdown",
   "metadata": {}
  },
  {
   "cell_type": "code",
   "execution_count": 292,
   "metadata": {},
   "outputs": [
    {
     "output_type": "execute_result",
     "data": {
      "text/plain": [
       "array([[1.        , 0.64314431],\n",
       "       [0.64314431, 1.        ]])"
      ]
     },
     "metadata": {},
     "execution_count": 292
    }
   ],
   "source": [
    "corr = np.corrcoef(students[:,1], students[:,2])\n",
    "corr"
   ]
  },
  {
   "cell_type": "code",
   "execution_count": 293,
   "metadata": {},
   "outputs": [
    {
     "output_type": "execute_result",
     "data": {
      "text/plain": [
       "array([[1.        , 0.46293714],\n",
       "       [0.46293714, 1.        ]])"
      ]
     },
     "metadata": {},
     "execution_count": 293
    }
   ],
   "source": [
    "np.corrcoef(students[:,1], students[:,3])"
   ]
  },
  {
   "cell_type": "code",
   "execution_count": 294,
   "metadata": {},
   "outputs": [
    {
     "output_type": "execute_result",
     "data": {
      "text/plain": [
       "array([[1.        , 0.29801325],\n",
       "       [0.29801325, 1.        ]])"
      ]
     },
     "metadata": {},
     "execution_count": 294
    }
   ],
   "source": [
    "np.corrcoef(students[:,3], students[:,2])"
   ]
  },
  {
   "source": [
    "Показатели вариации\n",
    "Математическое ожидание — среднее значение случайной величины при стремлении числа её измерений к бесконечности. Если число измерений конечно, то для оценки среднего значения величины используется среднее арифметическое. \n",
    "\n",
    "Дисперсия — мера разброса случайной величины относительно её математического ожидания. \n",
    "\n",
    " {\\displaystyle D[X]=M\\left[{\\big (}X-M[X]{\\big )}^{2}\\right]} \n",
    "\n",
    "Как следует из формулы, дисперсия случайной величины X равна математическому ожиданию квадрата отклонения случайной величины от ее математического ожидания. То есть, если величина дисперсии небольшая, значит, все числа в выборке имеют близкие друг к другу значения, а чем она больше — тем значительнее разброс показателей.\n",
    "\n",
    "Стандартное отклонение — самый распространенный показатель рассеивания случайной величины относительно её математического ожидания. \n",
    "\n",
    "{\\displaystyle \\sigma ={\\sqrt {D[X]}}}.\n",
    "\n",
    "Стандартное отклонение равно квадратному корню из дисперсии. Низкое стандартное отклонение показывает, что все значения в выборке сгруппированы около среднего значения.  Большой показатель этой величины говорит о том, что разброс значений большой. \n",
    "\n",
    "Узнаем, насколько разный у школьников рост, посчитав стандартное отклонение std:"
   ],
   "cell_type": "markdown",
   "metadata": {}
  },
  {
   "cell_type": "code",
   "execution_count": 295,
   "metadata": {},
   "outputs": [
    {
     "output_type": "execute_result",
     "data": {
      "text/plain": [
       "11.083320801997928"
      ]
     },
     "metadata": {},
     "execution_count": 295
    }
   ],
   "source": [
    "std = np.std(students[:,1])\n",
    "std"
   ]
  },
  {
   "cell_type": "code",
   "execution_count": 296,
   "metadata": {},
   "outputs": [
    {
     "output_type": "execute_result",
     "data": {
      "text/plain": [
       "0.4517742799230607"
      ]
     },
     "metadata": {},
     "execution_count": 296
    }
   ],
   "source": [
    "np.std(students[:,-1])"
   ]
  },
  {
   "source": [
    "Посчитайте, чему равна дисперсия значений веса школьников.\n",
    "\n",
    "Эту величину можно получить двумя способами: математически - используя определение дисперсии и известную функцию в блоке, или самостоятельно - используя подходящую функцию модуля NumPy."
   ],
   "cell_type": "markdown",
   "metadata": {}
  },
  {
   "cell_type": "code",
   "execution_count": 297,
   "metadata": {},
   "outputs": [
    {
     "output_type": "execute_result",
     "data": {
      "text/plain": [
       "60.36"
      ]
     },
     "metadata": {},
     "execution_count": 297
    }
   ],
   "source": [
    "\n",
    "np.std(students[:,2])**2"
   ]
  },
  {
   "cell_type": "code",
   "execution_count": 298,
   "metadata": {},
   "outputs": [
    {
     "output_type": "execute_result",
     "data": {
      "text/plain": [
       "60.36"
      ]
     },
     "metadata": {},
     "execution_count": 298
    }
   ],
   "source": [
    "np.var(students[:, 2])"
   ]
  },
  {
   "cell_type": "code",
   "execution_count": null,
   "metadata": {},
   "outputs": [],
   "source": []
  }
 ]
}